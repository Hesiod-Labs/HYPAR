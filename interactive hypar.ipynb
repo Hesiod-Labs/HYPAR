{
 "cells": [
  {
   "cell_type": "code",
   "execution_count": 1,
   "metadata": {},
   "outputs": [],
   "source": [
    "from hypar_package import Stock\n",
    "from hypar_package import Portfolio\n",
    "from hypar_package import DataCollection"
   ]
  },
  {
   "cell_type": "markdown",
   "metadata": {},
   "source": [
    "Here is an arrow-digram outlining the Portfolio creation pipeline:\n",
    "\n",
    "\\begin{equation}\n",
    "\\text{User input} \\rightarrow \\text{IEX Cloud API} \\rightarrow \\text{bind data to Stock object} \\rightarrow \\text{Portfolio object containing Stocks (and data)}\n",
    "\\end{equation}"
   ]
  },
  {
   "cell_type": "code",
   "execution_count": null,
   "metadata": {},
   "outputs": [],
   "source": []
  }
 ],
 "metadata": {
  "kernelspec": {
   "display_name": "Python 3",
   "language": "python",
   "name": "python3"
  },
  "language_info": {
   "codemirror_mode": {
    "name": "ipython",
    "version": 3
   },
   "file_extension": ".py",
   "mimetype": "text/x-python",
   "name": "python",
   "nbconvert_exporter": "python",
   "pygments_lexer": "ipython3",
   "version": "3.7.3"
  }
 },
 "nbformat": 4,
 "nbformat_minor": 2
}
