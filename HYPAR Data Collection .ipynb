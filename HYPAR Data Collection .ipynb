{
 "cells": [
  {
   "cell_type": "code",
   "execution_count": null,
   "metadata": {},
   "outputs": [],
   "source": [
    "# Only needs to be run upon first-time use\n",
    "import sys\n",
    "!{sys.executable} -m pip install alpha_vantage"
   ]
  },
  {
   "cell_type": "code",
   "execution_count": 8,
   "metadata": {},
   "outputs": [],
   "source": [
    "import numpy as np\n",
    "import scipy.stats as stats\n",
    "import pandas as pd\n",
    "import matplotlib.pyplot as plt\n",
    "import requests\n",
    "# https://github.com/RomelTorres/alpha_vantage\n",
    "from alpha_vantage.timeseries import TimeSeries\n",
    "from alpha_vantage.techindicators import TechIndicators \n",
    "from alpha_vantage.sectorperformance import SectorPerformances"
   ]
  },
  {
   "cell_type": "code",
   "execution_count": 9,
   "metadata": {},
   "outputs": [],
   "source": [
    "API_URL = 'https://www.alphavantage.co/query?'\n",
    "API_KEY = 'TMANNBF5NO707ZEI'"
   ]
  },
  {
   "cell_type": "code",
   "execution_count": 11,
   "metadata": {},
   "outputs": [],
   "source": [
    "# Output formats: json dictionaries (default), DataFrame, csv.\n",
    "# csv does not support ForeignExchange, SectorPerformances, TechIndicators.\n",
    "# indexing_type can also be integer (default: date)\n",
    "ts = TimeSeries(key=API_KEY, output_format='pandas', indexing_type='date')\n",
    "ti = TechIndicators(key=API_KEY, output_format='pandas')\n",
    "sp = SectorPerformances(key=API_KEY, output_format='pandas')"
   ]
  },
  {
   "cell_type": "code",
   "execution_count": 12,
   "metadata": {},
   "outputs": [],
   "source": [
    "# symbols = list of stock tickers as strings\n",
    "# intraday_interval: '1min', '5min', '15min', '30min', '60min' (default '15min')\n",
    "def get_data(symbol, start_date= None, end_date= None, type='daily_adjusted', interval= None):\n",
    "    \n",
    "    if type=='intraday':\n",
    "        stock_data, stock_meta_data = ts.get_intraday(symbol, interval=interval, outputsize='full')\n",
    "    elif type=='daily':\n",
    "        stock_data, stock_meta_data = ts.get_daily(symbol, outputsize='full')\n",
    "    elif type=='daily_adjusted':\n",
    "        stock_data, stock_meta_data = ts.get_daily_adjusted(symbol, outputsize='full')\n",
    "    elif type=='weekly':\n",
    "        stock_data, stock_meta_data = ts.get_weekly(symbol)\n",
    "    elif type=='weekly_adjusted':\n",
    "        stock_data, stock_meta_data = ts.get_weekly_adjusted(symbol)\n",
    "    elif type=='monthly':\n",
    "        stock_data, stock_meta_data = ts.get_monthly(symbol)\n",
    "    elif type=='monthly_adjusted':\n",
    "        stock_data, stock_meta_data = ts.get_monthly_adjusted(symbol)\n",
    "    \n",
    "    stock_data.rename(columns=lambda col: col[3:], inplace=True)\n",
    "    \n",
    "    if start_date and end_date != None:\n",
    "        stock_data = stock_data.loc[start_date:end_date]\n",
    "    elif start_date != None:\n",
    "        stock_data = stock_data.loc[start_date:]\n",
    "    elif end_date != None:\n",
    "        stock_data = stock_data.loc[:end_date]\n",
    "    return stock_data"
   ]
  },
  {
   "cell_type": "code",
   "execution_count": 13,
   "metadata": {},
   "outputs": [],
   "source": [
    "def calculate_returns(stock_data):\n",
    "    \n",
    "    daily_close = stock_data['close']\n",
    "    daily_pct_change = daily_close.pct_change()\n",
    "    daily_pct_change.fillna(0, inplace=True)\n",
    "    \n",
    "    daily_log_returns = np.log(daily_close.pct_change()+1)\n",
    "    daily_log_returns.fillna(0, inplace=True)\n",
    "    \n",
    "    # Cumulative daily rate of return is useful to determine the value of an investment at regular intervals.\n",
    "    cum_daily_return = (1 + daily_pct_change).cumprod()\n",
    "   # cum_monthly_return = cum_daily_return.resample('M').mean()\n",
    "    \n",
    "    return pd.DataFrame({'pct change': daily_pct_change,\n",
    "                        'log returns':daily_log_returns,\n",
    "                        'cumulative daily':cum_daily_return})"
   ]
  }
 ],
 "metadata": {
  "kernelspec": {
   "display_name": "Python 3",
   "language": "python",
   "name": "python3"
  },
  "language_info": {
   "codemirror_mode": {
    "name": "ipython",
    "version": 3
   },
   "file_extension": ".py",
   "mimetype": "text/x-python",
   "name": "python",
   "nbconvert_exporter": "python",
   "pygments_lexer": "ipython3",
   "version": "3.7.1"
  }
 },
 "nbformat": 4,
 "nbformat_minor": 2
}
