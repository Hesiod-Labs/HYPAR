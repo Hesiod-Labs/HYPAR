{
 "cells": [
  {
   "cell_type": "code",
   "execution_count": 1,
   "metadata": {},
   "outputs": [],
   "source": [
    "from hypar_package import Stock\n",
    "from hypar_package import Portfolio\n",
    "from hypar_package import DataCollection\n",
    "from hypar_package import Plotting\n",
    "from hypar_package import Analysis"
   ]
  },
  {
   "cell_type": "markdown",
   "metadata": {},
   "source": [
    "To gain access to the API, go to https://www.iexcloud.io to create an account. Then go to https://www.iexcloud.io/console/tokens to find your API token. Unless you want to get real data, it is recommended that you turn on \"Viewing Test Data\" along the left panel. Any API usage while this is on will not count towards your monthly API allowance. Note that your API token changes when this option is active."
   ]
  },
  {
   "cell_type": "markdown",
   "metadata": {},
   "source": [
    "Here is an arrow-digram outlining the Portfolio creation pipeline:\n",
    "\n",
    "\\begin{equation}\n",
    "\\text{User input} \\rightarrow \\text{IEX Cloud API} \\rightarrow \\text{bind data to Stock object} \\rightarrow \\text{Portfolio object containing Stocks (and data)}\n",
    "\\end{equation}"
   ]
  },
  {
   "cell_type": "code",
   "execution_count": 2,
   "metadata": {},
   "outputs": [
    {
     "name": "stdout",
     "output_type": "stream",
     "text": [
      "Enter \"stable\" for real data and \"sandbox\" for test data: sandbox\n",
      "Enter your IEX Cloud API key: Tpk_d8861bdb79aa4fd7ad9318566277b146\n",
      "Symbols (separate with comma): NVDA, AMD, AAPL, WAL, MCD\n",
      "Timeframe (max (15yr), 5y, 2y, 1y, ytd, 6m, 3m, 1m): 6m\n",
      "Type the numbers corresponding to the data of interest (separate with comma): \n",
      "[1] price data\n",
      "[2] balance sheet\n",
      "[3] book data\n",
      "[4] cash flow\n",
      "[5] company data\n",
      "[6] earnings\n",
      "[7] income statement\n",
      "[8] intraday data\n",
      "[9] key stats\n",
      "[10] price target\n",
      "1\n"
     ]
    }
   ],
   "source": [
    "p = DataCollection.generate_portfolio()"
   ]
  },
  {
   "cell_type": "code",
   "execution_count": 3,
   "metadata": {},
   "outputs": [
    {
     "data": {
      "text/html": [
       "<div>\n",
       "<style scoped>\n",
       "    .dataframe tbody tr th:only-of-type {\n",
       "        vertical-align: middle;\n",
       "    }\n",
       "\n",
       "    .dataframe tbody tr th {\n",
       "        vertical-align: top;\n",
       "    }\n",
       "\n",
       "    .dataframe thead th {\n",
       "        text-align: right;\n",
       "    }\n",
       "</style>\n",
       "<table border=\"1\" class=\"dataframe\">\n",
       "  <thead>\n",
       "    <tr style=\"text-align: right;\">\n",
       "      <th></th>\n",
       "      <th>NVDA</th>\n",
       "      <th>AMD</th>\n",
       "      <th>AAPL</th>\n",
       "      <th>WAL</th>\n",
       "      <th>MCD</th>\n",
       "    </tr>\n",
       "  </thead>\n",
       "  <tbody>\n",
       "    <tr>\n",
       "      <th>NVDA</th>\n",
       "      <td>1.000000</td>\n",
       "      <td>0.983060</td>\n",
       "      <td>0.978543</td>\n",
       "      <td>0.969509</td>\n",
       "      <td>0.979673</td>\n",
       "    </tr>\n",
       "    <tr>\n",
       "      <th>AMD</th>\n",
       "      <td>0.983060</td>\n",
       "      <td>1.000000</td>\n",
       "      <td>0.963862</td>\n",
       "      <td>0.967250</td>\n",
       "      <td>0.971767</td>\n",
       "    </tr>\n",
       "    <tr>\n",
       "      <th>AAPL</th>\n",
       "      <td>0.978543</td>\n",
       "      <td>0.963862</td>\n",
       "      <td>1.000000</td>\n",
       "      <td>0.977414</td>\n",
       "      <td>0.980802</td>\n",
       "    </tr>\n",
       "    <tr>\n",
       "      <th>WAL</th>\n",
       "      <td>0.969509</td>\n",
       "      <td>0.967250</td>\n",
       "      <td>0.977414</td>\n",
       "      <td>1.000000</td>\n",
       "      <td>0.977414</td>\n",
       "    </tr>\n",
       "    <tr>\n",
       "      <th>MCD</th>\n",
       "      <td>0.979673</td>\n",
       "      <td>0.971767</td>\n",
       "      <td>0.980802</td>\n",
       "      <td>0.977414</td>\n",
       "      <td>1.000000</td>\n",
       "    </tr>\n",
       "  </tbody>\n",
       "</table>\n",
       "</div>"
      ],
      "text/plain": [
       "          NVDA       AMD      AAPL       WAL       MCD\n",
       "NVDA  1.000000  0.983060  0.978543  0.969509  0.979673\n",
       "AMD   0.983060  1.000000  0.963862  0.967250  0.971767\n",
       "AAPL  0.978543  0.963862  1.000000  0.977414  0.980802\n",
       "WAL   0.969509  0.967250  0.977414  1.000000  0.977414\n",
       "MCD   0.979673  0.971767  0.980802  0.977414  1.000000"
      ]
     },
     "execution_count": 3,
     "metadata": {},
     "output_type": "execute_result"
    }
   ],
   "source": [
    "Analysis.spearman_corr_coeffs(p, 'close')"
   ]
  },
  {
   "cell_type": "code",
   "execution_count": 6,
   "metadata": {},
   "outputs": [
    {
     "data": {
      "image/png": "[encoded data removed]",
      "text/plain": [
       "<Figure size 432x288 with 2 Axes>"
      ]
     },
     "metadata": {
      "needs_background": "light"
     },
     "output_type": "display_data"
    }
   ],
   "source": [
    "Plotting.spearman_corr_heatmap(p);"
   ]
  },
  {
   "cell_type": "code",
   "execution_count": 16,
   "metadata": {},
   "outputs": [
    {
     "data": {
      "text/plain": [
       "<matplotlib.axes._subplots.AxesSubplot at 0x1c2b81b29b0>"
      ]
     },
     "execution_count": 16,
     "metadata": {},
     "output_type": "execute_result"
    },
    {
     "data": {
      "image/png": "[encoded data removed]",
      "text/plain": [
       "<Figure size 432x288 with 1 Axes>"
      ]
     },
     "metadata": {
      "needs_background": "light"
     },
     "output_type": "display_data"
    }
   ],
   "source": [
    "Plotting.timeseries(p, 'close', tickers=['AMD', 'AAPL', 'NVDA', 'MCD'])"
   ]
  },
  {
   "cell_type": "code",
   "execution_count": 20,
   "metadata": {},
   "outputs": [
    {
     "data": {
      "text/plain": [
       "{'mean': 164.43727272727276,\n",
       " 'variance': 242.42633801652903,\n",
       " 'skew': 0.13250009996683393,\n",
       " 'kurtosis': -1.2130347273061877,\n",
       " 'jarque bera': True}"
      ]
     },
     "execution_count": 20,
     "metadata": {},
     "output_type": "execute_result"
    }
   ],
   "source": [
    "Analysis.moments(p, 'AAPL', 'close')"
   ]
  },
  {
   "cell_type": "code",
   "execution_count": null,
   "metadata": {},
   "outputs": [],
   "source": []
  }
 ],
 "metadata": {
  "kernelspec": {
   "display_name": "Python 3",
   "language": "python",
   "name": "python3"
  },
  "language_info": {
   "codemirror_mode": {
    "name": "ipython",
    "version": 3
   },
   "file_extension": ".py",
   "mimetype": "text/x-python",
   "name": "python",
   "nbconvert_exporter": "python",
   "pygments_lexer": "ipython3",
   "version": "3.7.3"
  }
 },
 "nbformat": 4,
 "nbformat_minor": 2
}
