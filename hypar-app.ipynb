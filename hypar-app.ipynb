{
 "cells": [
  {
   "cell_type": "code",
   "execution_count": 1,
   "metadata": {},
   "outputs": [],
   "source": [
    "from hypar_package import Stock\n",
    "from hypar_package import Portfolio\n",
    "from hypar_package import DataCollection"
   ]
  },
  {
   "cell_type": "markdown",
   "metadata": {},
   "source": [
    "To gain access to the API, go to https://www.iexcloud.io to create an account. Then go to https://www.iexcloud.io/console/tokens to find your API token. Unless you want to get real data, it is recommended that you turn on \"Viewing Test Data\" along the left panel. Any API usage while this is on will not count towards your monthly API allowance. Note that your API token changes when this option is active."
   ]
  },
  {
   "cell_type": "markdown",
   "metadata": {},
   "source": [
    "Here is an arrow-digram outlining the Portfolio creation pipeline:\n",
    "\n",
    "\\begin{equation}\n",
    "\\text{User input} \\rightarrow \\text{IEX Cloud API} \\rightarrow \\text{bind data to Stock object} \\rightarrow \\text{Portfolio object containing Stocks (and data)}\n",
    "\\end{equation}"
   ]
  },
  {
   "cell_type": "code",
   "execution_count": 2,
   "metadata": {},
   "outputs": [
    {
     "name": "stdout",
     "output_type": "stream",
     "text": [
      "Enter \"stable\" for real data and \"sandbox\" for test data: sandbox\n",
      "Enter your IEX Cloud API key: Tpk_d8861bdb79aa4fd7ad9318566277b146\n",
      "Symbols (separate with comma): NVDA, AMD, WAL\n",
      "Timeframe (max (15yr), 5y, 2y, 1y, ytd, 6m, 3m, 1m): 6m\n",
      "Type the numbers corresponding to the data of interest (separate with comma): \n",
      "[1] price data\n",
      "[2] balance sheet\n",
      "[3] book data\n",
      "[4] cash flow\n",
      "[5] company data\n",
      "[6] earnings\n",
      "[7] income statement\n",
      "[8] intraday data\n",
      "[9] key stats\n",
      "[10] price target\n",
      "1,2,3\n"
     ]
    }
   ],
   "source": [
    "p = DataCollection.generate_portfolio() # Takes user input"
   ]
  },
  {
   "cell_type": "code",
   "execution_count": 3,
   "metadata": {},
   "outputs": [
    {
     "data": {
      "text/plain": [
       "<hypar_package.Portfolio.Portfolio at 0x1a2d2626668>"
      ]
     },
     "execution_count": 3,
     "metadata": {},
     "output_type": "execute_result"
    }
   ],
   "source": [
    "p"
   ]
  },
  {
   "cell_type": "code",
   "execution_count": 4,
   "metadata": {},
   "outputs": [
    {
     "data": {
      "text/plain": [
       "[<hypar_package.Stock.Stock at 0x1a2d2626390>,\n",
       " <hypar_package.Stock.Stock at 0x1a2d2626400>,\n",
       " <hypar_package.Stock.Stock at 0x1a2d51cb550>]"
      ]
     },
     "execution_count": 4,
     "metadata": {},
     "output_type": "execute_result"
    }
   ],
   "source": [
    "p.stocks"
   ]
  },
  {
   "cell_type": "code",
   "execution_count": 5,
   "metadata": {},
   "outputs": [
    {
     "name": "stdout",
     "output_type": "stream",
     "text": [
      "NVDA 1\n",
      "AMD 1\n",
      "WAL 1\n"
     ]
    }
   ],
   "source": [
    "p.list_stocks() # Lists ticker and symbol"
   ]
  },
  {
   "cell_type": "code",
   "execution_count": 6,
   "metadata": {},
   "outputs": [],
   "source": [
    "p.anonymize()"
   ]
  },
  {
   "cell_type": "code",
   "execution_count": 7,
   "metadata": {},
   "outputs": [
    {
     "name": "stdout",
     "output_type": "stream",
     "text": [
      "S0 1\n",
      "S1 1\n",
      "S2 1\n"
     ]
    }
   ],
   "source": [
    "p.list_stocks()"
   ]
  },
  {
   "cell_type": "code",
   "execution_count": 8,
   "metadata": {},
   "outputs": [],
   "source": [
    "p.reveal()"
   ]
  },
  {
   "cell_type": "code",
   "execution_count": 9,
   "metadata": {},
   "outputs": [
    {
     "name": "stdout",
     "output_type": "stream",
     "text": [
      "NVDA 1\n",
      "AMD 1\n",
      "WAL 1\n"
     ]
    }
   ],
   "source": [
    "p.list_stocks()"
   ]
  },
  {
   "cell_type": "code",
   "execution_count": 10,
   "metadata": {},
   "outputs": [
    {
     "data": {
      "text/html": [
       "<div>\n",
       "<style scoped>\n",
       "    .dataframe tbody tr th:only-of-type {\n",
       "        vertical-align: middle;\n",
       "    }\n",
       "\n",
       "    .dataframe tbody tr th {\n",
       "        vertical-align: top;\n",
       "    }\n",
       "\n",
       "    .dataframe thead th {\n",
       "        text-align: right;\n",
       "    }\n",
       "</style>\n",
       "<table border=\"1\" class=\"dataframe\">\n",
       "  <thead>\n",
       "    <tr style=\"text-align: right;\">\n",
       "      <th></th>\n",
       "      <th>change</th>\n",
       "      <th>changeOverTime</th>\n",
       "      <th>changePercent</th>\n",
       "      <th>close</th>\n",
       "      <th>high</th>\n",
       "      <th>label</th>\n",
       "      <th>low</th>\n",
       "      <th>open</th>\n",
       "      <th>uClose</th>\n",
       "      <th>uHigh</th>\n",
       "      <th>uLow</th>\n",
       "      <th>uOpen</th>\n",
       "      <th>uVolume</th>\n",
       "      <th>volume</th>\n",
       "    </tr>\n",
       "    <tr>\n",
       "      <th>date</th>\n",
       "      <th></th>\n",
       "      <th></th>\n",
       "      <th></th>\n",
       "      <th></th>\n",
       "      <th></th>\n",
       "      <th></th>\n",
       "      <th></th>\n",
       "      <th></th>\n",
       "      <th></th>\n",
       "      <th></th>\n",
       "      <th></th>\n",
       "      <th></th>\n",
       "      <th></th>\n",
       "      <th></th>\n",
       "    </tr>\n",
       "  </thead>\n",
       "  <tbody>\n",
       "    <tr>\n",
       "      <th>2019-05-01</th>\n",
       "      <td>0.00</td>\n",
       "      <td>0.000000</td>\n",
       "      <td>0.0000</td>\n",
       "      <td>181.90</td>\n",
       "      <td>189.22</td>\n",
       "      <td>May 1</td>\n",
       "      <td>183.62</td>\n",
       "      <td>188.56</td>\n",
       "      <td>184.79</td>\n",
       "      <td>189.95</td>\n",
       "      <td>180.81</td>\n",
       "      <td>183.44</td>\n",
       "      <td>9122585</td>\n",
       "      <td>8904181</td>\n",
       "    </tr>\n",
       "    <tr>\n",
       "      <th>2019-05-02</th>\n",
       "      <td>2.74</td>\n",
       "      <td>0.015483</td>\n",
       "      <td>1.5213</td>\n",
       "      <td>186.38</td>\n",
       "      <td>186.58</td>\n",
       "      <td>May 2</td>\n",
       "      <td>180.58</td>\n",
       "      <td>185.10</td>\n",
       "      <td>190.17</td>\n",
       "      <td>188.94</td>\n",
       "      <td>179.69</td>\n",
       "      <td>184.72</td>\n",
       "      <td>10173206</td>\n",
       "      <td>10265832</td>\n",
       "    </tr>\n",
       "    <tr>\n",
       "      <th>2019-05-03</th>\n",
       "      <td>-0.19</td>\n",
       "      <td>0.014372</td>\n",
       "      <td>-0.1024</td>\n",
       "      <td>184.35</td>\n",
       "      <td>188.33</td>\n",
       "      <td>May 3</td>\n",
       "      <td>186.68</td>\n",
       "      <td>186.48</td>\n",
       "      <td>190.71</td>\n",
       "      <td>184.75</td>\n",
       "      <td>182.55</td>\n",
       "      <td>185.40</td>\n",
       "      <td>8558321</td>\n",
       "      <td>8650715</td>\n",
       "    </tr>\n",
       "    <tr>\n",
       "      <th>2019-05-06</th>\n",
       "      <td>-3.28</td>\n",
       "      <td>-0.003479</td>\n",
       "      <td>-1.7712</td>\n",
       "      <td>185.77</td>\n",
       "      <td>181.75</td>\n",
       "      <td>May 6</td>\n",
       "      <td>174.00</td>\n",
       "      <td>176.10</td>\n",
       "      <td>187.94</td>\n",
       "      <td>180.91</td>\n",
       "      <td>180.00</td>\n",
       "      <td>181.90</td>\n",
       "      <td>10709212</td>\n",
       "      <td>10813436</td>\n",
       "    </tr>\n",
       "    <tr>\n",
       "      <th>2019-05-07</th>\n",
       "      <td>-6.84</td>\n",
       "      <td>-0.041538</td>\n",
       "      <td>-3.7728</td>\n",
       "      <td>176.18</td>\n",
       "      <td>184.50</td>\n",
       "      <td>May 7</td>\n",
       "      <td>173.76</td>\n",
       "      <td>181.30</td>\n",
       "      <td>176.21</td>\n",
       "      <td>184.70</td>\n",
       "      <td>175.82</td>\n",
       "      <td>184.40</td>\n",
       "      <td>14220411</td>\n",
       "      <td>14062789</td>\n",
       "    </tr>\n",
       "  </tbody>\n",
       "</table>\n",
       "</div>"
      ],
      "text/plain": [
       "            change  changeOverTime  changePercent   close    high  label  \\\n",
       "date                                                                       \n",
       "2019-05-01    0.00        0.000000         0.0000  181.90  189.22  May 1   \n",
       "2019-05-02    2.74        0.015483         1.5213  186.38  186.58  May 2   \n",
       "2019-05-03   -0.19        0.014372        -0.1024  184.35  188.33  May 3   \n",
       "2019-05-06   -3.28       -0.003479        -1.7712  185.77  181.75  May 6   \n",
       "2019-05-07   -6.84       -0.041538        -3.7728  176.18  184.50  May 7   \n",
       "\n",
       "               low    open  uClose   uHigh    uLow   uOpen   uVolume    volume  \n",
       "date                                                                            \n",
       "2019-05-01  183.62  188.56  184.79  189.95  180.81  183.44   9122585   8904181  \n",
       "2019-05-02  180.58  185.10  190.17  188.94  179.69  184.72  10173206  10265832  \n",
       "2019-05-03  186.68  186.48  190.71  184.75  182.55  185.40   8558321   8650715  \n",
       "2019-05-06  174.00  176.10  187.94  180.91  180.00  181.90  10709212  10813436  \n",
       "2019-05-07  173.76  181.30  176.21  184.70  175.82  184.40  14220411  14062789  "
      ]
     },
     "execution_count": 10,
     "metadata": {},
     "output_type": "execute_result"
    }
   ],
   "source": [
    "p.stocks[0].price_data.head()"
   ]
  },
  {
   "cell_type": "code",
   "execution_count": 15,
   "metadata": {},
   "outputs": [
    {
     "data": {
      "text/plain": [
       "{'accountsPayable': {Timestamp('2019-04-02 00:00:00'): 962693028},\n",
       " 'capitalSurplus': {Timestamp('2019-04-02 00:00:00'): 9607016064},\n",
       " 'commonStock': {Timestamp('2019-04-02 00:00:00'): 11085419},\n",
       " 'currentAssets': {Timestamp('2019-04-02 00:00:00'): 3757709886},\n",
       " 'currentCash': {Timestamp('2019-04-02 00:00:00'): 1003036371},\n",
       " 'currentLongTermDebt': {Timestamp('2019-04-02 00:00:00'): 72714859},\n",
       " 'goodwill': {Timestamp('2019-04-02 00:00:00'): 298418911},\n",
       " 'intangibleAssets': {Timestamp('2019-04-02 00:00:00'): 224773998},\n",
       " 'inventory': {Timestamp('2019-04-02 00:00:00'): 963361894},\n",
       " 'longTermDebt': {Timestamp('2019-04-02 00:00:00'): 1036014234},\n",
       " 'longTermInvestments': {Timestamp('2019-04-02 00:00:00'): 82549053},\n",
       " 'minorityInterest': {Timestamp('2019-04-02 00:00:00'): 0},\n",
       " 'netTangibleAssets': {Timestamp('2019-04-02 00:00:00'): 1558255552},\n",
       " 'otherAssets': {Timestamp('2019-04-02 00:00:00'): 298657124},\n",
       " 'otherCurrentAssets': {Timestamp('2019-04-02 00:00:00'): 275395172},\n",
       " 'otherCurrentLiabilities': {Timestamp('2019-04-02 00:00:00'): 798966558},\n",
       " 'otherLiabilities': {Timestamp('2019-04-02 00:00:00'): 357602666},\n",
       " 'propertyPlantEquipment': {Timestamp('2019-04-02 00:00:00'): 383840721},\n",
       " 'receivables': {Timestamp('2019-04-02 00:00:00'): 1295737231},\n",
       " 'retainedEarnings': {Timestamp('2019-04-02 00:00:00'): -7690320200},\n",
       " 'shareholderEquity': {Timestamp('2019-04-02 00:00:00'): 1805893883},\n",
       " 'shortTermInvestments': {Timestamp('2019-04-02 00:00:00'): 226759650},\n",
       " 'totalAssets': {Timestamp('2019-04-02 00:00:00'): 4958891712},\n",
       " 'totalCurrentLiabilities': {Timestamp('2019-04-02 00:00:00'): 1774044864},\n",
       " 'totalLiabilities': {Timestamp('2019-04-02 00:00:00'): 3183314009},\n",
       " 'treasuryStock': {Timestamp('2019-04-02 00:00:00'): 49767967},\n",
       " 'symbol': {Timestamp('2019-04-02 00:00:00'): 'AMD'}}"
      ]
     },
     "execution_count": 15,
     "metadata": {},
     "output_type": "execute_result"
    }
   ],
   "source": [
    "p.stocks[1].balance_sheet.to_dict()"
   ]
  },
  {
   "cell_type": "code",
   "execution_count": 12,
   "metadata": {},
   "outputs": [
    {
     "data": {
      "text/plain": [
       "{'avgTotalVolume': {0: 789203.0},\n",
       " 'calculationPrice': {0: 'close'},\n",
       " 'change': {0: -1.28},\n",
       " 'changePercent': {0: -0.03151},\n",
       " 'close': {0: 41.91},\n",
       " 'closeTime': {0: Timestamp('2019-10-04 06:32:00.347000')},\n",
       " 'companyName': {0: 'Western Alliance Bancorporation'},\n",
       " 'delayedPrice': {0: 43.2},\n",
       " 'delayedPriceTime': {0: Timestamp('2020-10-14 23:24:30.786000')},\n",
       " 'extendedChange': {0: 0.0},\n",
       " 'extendedChangePercent': {0: 0.0},\n",
       " 'extendedPrice': {0: 41.8},\n",
       " 'extendedPriceTime': {0: Timestamp('2020-10-01 04:46:40.995000')},\n",
       " 'high': {0: 43.93},\n",
       " 'iexAskPrice': {0: None},\n",
       " 'iexAskSize': {0: None},\n",
       " 'iexBidPrice': {0: None},\n",
       " 'iexBidSize': {0: None},\n",
       " 'iexLastUpdated': {0: NaT},\n",
       " 'iexMarketPercent': {0: None},\n",
       " 'iexRealtimePrice': {0: None},\n",
       " 'iexRealtimeSize': {0: None},\n",
       " 'iexVolume': {0: None},\n",
       " 'latestPrice': {0: 41.79},\n",
       " 'latestSource': {0: 'Close'},\n",
       " 'latestTime': {0: Timestamp('2019-05-31 00:00:00')},\n",
       " 'latestUpdate': {0: 1578471375958.0},\n",
       " 'latestVolume': {0: 1042350.0},\n",
       " 'low': {0: 42.31},\n",
       " 'marketCap': {0: 4488803594.0},\n",
       " 'open': {0: 42.68},\n",
       " 'openTime': {0: Timestamp('2020-08-07 12:24:39.559000')},\n",
       " 'peRatio': {0: 9.84},\n",
       " 'previousClose': {0: 43.86},\n",
       " 'symbol': {0: 'WAL'},\n",
       " 'type': {0: 'quote'},\n",
       " 'week52High': {0: 65.98},\n",
       " 'week52Low': {0: 39.24},\n",
       " 'ytdChange': {0: 0.0012039858444473255}}"
      ]
     },
     "execution_count": 12,
     "metadata": {},
     "output_type": "execute_result"
    }
   ],
   "source": [
    "p.stocks[1].book_data.to_dict()"
   ]
  }
 ],
 "metadata": {
  "kernelspec": {
   "display_name": "Python 3",
   "language": "python",
   "name": "python3"
  },
  "language_info": {
   "codemirror_mode": {
    "name": "ipython",
    "version": 3
   },
   "file_extension": ".py",
   "mimetype": "text/x-python",
   "name": "python",
   "nbconvert_exporter": "python",
   "pygments_lexer": "ipython3",
   "version": "3.7.3"
  }
 },
 "nbformat": 4,
 "nbformat_minor": 2
}
