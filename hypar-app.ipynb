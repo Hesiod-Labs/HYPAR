{
 "cells": [
  {
   "cell_type": "code",
   "execution_count": 26,
   "metadata": {},
   "outputs": [],
   "source": [
    "import sys !{sys.executable} -m pip install pyEX==0.1.13 \n",
    "from hypar import stock\n",
    "from hypar import portfolio\n",
    "from hypar import data_collection\n",
    "from hypar import plotting\n",
    "from hypar import analysis\n",
    "import numpy as np\n",
    "import seaborn as sns\n",
    "import matplotlib.pyplot as plt"
   ]
  },
  {
   "cell_type": "markdown",
   "metadata": {},
   "source": [
    "# The Basics of Using Jupyter"
   ]
  },
  {
   "cell_type": "markdown",
   "metadata": {},
   "source": [
    "Jupyter is an easy way for programmers and data scientists to openly share their backend (code) while also allowing for plain text (like this) to supplement what is written in the code. To use the Jupyter environment, there are a few basic things that one should know about...\n",
    "\n",
    "* Saving and opening a notebook\n",
    "* **import** (and **from**) statements\n",
    "* Cell types (code and markdown)\n",
    "* Cells: editing, adding/removing, running\n",
    "* Kernel: interrupt, restart\n",
    "* help() $\\rightarrow$ SUPER HELPFUL (who would've guessed?)"
   ]
  },
  {
   "cell_type": "markdown",
   "metadata": {},
   "source": [
    "# IEX API"
   ]
  },
  {
   "cell_type": "markdown",
   "metadata": {},
   "source": [
    "To gain access to the API, go to https://www.iexcloud.io to create an account. Then go to https://www.iexcloud.io/console/tokens to find your API token. Unless you want to get real data, it is recommended that you turn on \"Viewing Test Data\" along the left panel. Any API usage while this is on will not count towards your monthly API allowance. Note that your API token changes when this option is active."
   ]
  },
  {
   "cell_type": "markdown",
   "metadata": {},
   "source": [
    "Here is an arrow-digram outlining the Portfolio creation pipeline:\n",
    "\n",
    "\\begin{equation}\n",
    "\\text{User input} \\rightarrow \\text{IEX Cloud API} \\rightarrow \\text{bind data to Stock object} \\rightarrow \\text{Portfolio object containing Stocks (and data)}\n",
    "\\end{equation}"
   ]
  },
  {
   "cell_type": "markdown",
   "metadata": {},
   "source": [
    "# Making a Portfolio"
   ]
  },
  {
   "cell_type": "code",
   "execution_count": 3,
   "metadata": {},
   "outputs": [
    {
     "name": "stdout",
     "output_type": "stream",
     "text": [
      "Enter \"stable\" for real data and \"sandbox\" for test data: sandbox\n",
      "Version already exists\n",
      "Symbols (separate with comma): nvda, amd, wal, fb\n",
      "Timeframe (max (15yr), 5y, 2y, 1y, ytd, 6m, 3m, 1m): 1m\n",
      "Type the numbers corresponding to the data of interest (separate with comma): \n",
      "[1] price data\n",
      "[2] balance sheet\n",
      "[3] book data\n",
      "[4] cash flow\n",
      "[5] company data\n",
      "[6] earnings\n",
      "[7] income statement\n",
      "[8] intraday data\n",
      "[9] key stats\n",
      "[10] price target\n",
      "1\n"
     ]
    }
   ],
   "source": [
    "p = data_collection.generate_portfolio()"
   ]
  },
  {
   "cell_type": "code",
   "execution_count": 7,
   "metadata": {
    "scrolled": true
   },
   "outputs": [
    {
     "data": {
      "text/plain": [
       "OrderedDict([('NVDA', <hypar.stock.Stock at 0x13b939b0>),\n",
       "             ('AMD', <hypar.stock.Stock at 0x13c1f310>),\n",
       "             ('WAL', <hypar.stock.Stock at 0x13c19430>),\n",
       "             ('FB', <hypar.stock.Stock at 0x13c193b0>)])"
      ]
     },
     "execution_count": 7,
     "metadata": {},
     "output_type": "execute_result"
    }
   ],
   "source": [
    "# Portfolio is an Ordered Dict with keys being the tickers and the values being the Stock objects.\n",
    "p.stocks"
   ]
  },
  {
   "cell_type": "code",
   "execution_count": 9,
   "metadata": {},
   "outputs": [
    {
     "data": {
      "text/plain": [
       "<hypar.stock.Stock at 0x13b939b0>"
      ]
     },
     "execution_count": 9,
     "metadata": {},
     "output_type": "execute_result"
    }
   ],
   "source": [
    "# Get a Stock's data.\n",
    "p.stocks['NVDA']"
   ]
  },
  {
   "cell_type": "code",
   "execution_count": 12,
   "metadata": {},
   "outputs": [
    {
     "data": {
      "text/plain": [
       "{'date': '2019-05-29',\n",
       " 'open': 145.66,\n",
       " 'close': 141.95,\n",
       " 'high': 145.57,\n",
       " 'low': 138.99,\n",
       " 'volume': 14342191,\n",
       " 'uOpen': 142.79,\n",
       " 'uClose': 142.25,\n",
       " 'uHigh': 144.48,\n",
       " 'uLow': 143.72,\n",
       " 'uVolume': 14304748,\n",
       " 'change': 0,\n",
       " 'changePercent': 0,\n",
       " 'label': 'May 29',\n",
       " 'changeOverTime': 0}"
      ]
     },
     "execution_count": 12,
     "metadata": {},
     "output_type": "execute_result"
    }
   ],
   "source": [
    "# Use .<attribute> to get different pieces of data.\n",
    "p.stocks['NVDA'].price_data[0] # The index is just because the dictionary is a list"
   ]
  },
  {
   "cell_type": "code",
   "execution_count": 16,
   "metadata": {},
   "outputs": [
    {
     "data": {
      "text/plain": [
       "('NVDA',\n",
       " [('2019-05-29', 141.95),\n",
       "  ('2019-05-30', 144.04),\n",
       "  ('2019-05-31', 142.23),\n",
       "  ('2019-06-03', 137.09),\n",
       "  ('2019-06-04', 149),\n",
       "  ('2019-06-05', 146.19),\n",
       "  ('2019-06-06', 150.1),\n",
       "  ('2019-06-07', 149.3),\n",
       "  ('2019-06-10', 152.59),\n",
       "  ('2019-06-11', 157.28),\n",
       "  ('2019-06-12', 150.9),\n",
       "  ('2019-06-13', 149.68),\n",
       "  ('2019-06-14', 145.97),\n",
       "  ('2019-06-17', 148.23),\n",
       "  ('2019-06-18', 158.8),\n",
       "  ('2019-06-19', 158.13),\n",
       "  ('2019-06-20', 155.3),\n",
       "  ('2019-06-21', 153.16),\n",
       "  ('2019-06-24', 155.42),\n",
       "  ('2019-06-25', 153.04),\n",
       "  ('2019-06-26', 163.38),\n",
       "  ('2019-06-27', 166.5),\n",
       "  ('2019-06-28', 167.73)])"
      ]
     },
     "execution_count": 16,
     "metadata": {},
     "output_type": "execute_result"
    }
   ],
   "source": [
    "# Notice the above notation is not very convient, so use the following method to \"slice\" the data.\n",
    "# Data can be returned in different formats, so use help(p.get_data_slice) to learn more about this.\n",
    "p.get_data_slice('close')[0]"
   ]
  },
  {
   "cell_type": "markdown",
   "metadata": {},
   "source": [
    "# Plotting (all are not working temporarily, sorry)"
   ]
  },
  {
   "cell_type": "markdown",
   "metadata": {},
   "source": [
    "* Time series - not currently working with new implementation (sorry)\n",
    "* CDF - again, not currently working\n",
    "* Spearman rank correlation heatmap"
   ]
  },
  {
   "cell_type": "markdown",
   "metadata": {},
   "source": [
    "# Analysis"
   ]
  },
  {
   "cell_type": "markdown",
   "metadata": {},
   "source": [
    "* Spearman rank coefficients\n",
    "* Statistical moments - not currently working (sorry)"
   ]
  },
  {
   "cell_type": "code",
   "execution_count": 19,
   "metadata": {},
   "outputs": [
    {
     "data": {
      "text/plain": [
       "[['WAL', 'FB', 0.0045588235294117645],\n",
       " ['FB', 'WAL', 0.0045588235294117645],\n",
       " ['AMD', 'FB', 0.07426470588235294],\n",
       " ['FB', 'AMD', 0.07426470588235294],\n",
       " ['NVDA', 'FB', 0.07720588235294118],\n",
       " ['FB', 'NVDA', 0.07720588235294118],\n",
       " ['AMD', 'WAL', 0.08161764705882352],\n",
       " ['WAL', 'AMD', 0.08161764705882352],\n",
       " ['NVDA', 'WAL', 0.10132352941176472],\n",
       " ['WAL', 'NVDA', 0.10132352941176472],\n",
       " ['NVDA', 'AMD', 0.16102941176470587],\n",
       " ['AMD', 'NVDA', 0.16102941176470587]]"
      ]
     },
     "execution_count": 19,
     "metadata": {},
     "output_type": "execute_result"
    }
   ],
   "source": [
    "analysis.correlation(p) # use help() to get an understanding for how you can weight the correlations."
   ]
  },
  {
   "cell_type": "code",
   "execution_count": 27,
   "metadata": {},
   "outputs": [
    {
     "data": {
      "image/png": "[encoded data removed]",
      "text/plain": [
       "<Figure size 432x288 with 1 Axes>"
      ]
     },
     "metadata": {
      "needs_background": "light"
     },
     "output_type": "display_data"
    },
    {
     "data": {
      "image/png": "[encoded data removed]",
      "text/plain": [
       "<Figure size 432x288 with 1 Axes>"
      ]
     },
     "metadata": {
      "needs_background": "light"
     },
     "output_type": "display_data"
    }
   ],
   "source": [
    "# The following will eventually be added to the plotting module. For now, it must be done manually.\n",
    "\n",
    "# Randomly assign number of stocks owned\n",
    "for stock in p.stocks.keys():\n",
    "    p.stocks[stock].num_shares[p] = np.random.randint(1,15)\n",
    "\n",
    "# Calculate all the weightings of correlation (i.e. regular, rank, shares, both)\n",
    "b='spearman'\n",
    "a=False\n",
    "c=True\n",
    "sh=True\n",
    "r=True\n",
    "\n",
    "reg = analysis.correlation(p, method=b, absolute=a, coeffs_only=c)\n",
    "rank = analysis.correlation(p, method=b, weight_by_rank=r, absolute=a, coeffs_only=c)\n",
    "shares = analysis.correlation(p, method=b, weight_by_shares=sh, absolute=a, coeffs_only=c)\n",
    "both = analysis.correlation(p, method=b, weight_by_rank=r, weight_by_shares=sh, absolute=a, coeffs_only=c)\n",
    "\n",
    "ax = sns.distplot(reg, label='Regular')\n",
    "sns.distplot(rank, label='Rank')\n",
    "sns.distplot(shares, label='Shares')\n",
    "sns.distplot(both, label='Both')\n",
    "ax.set_xlabel('Non-Absolute Correlation')\n",
    "ax.set_ylabel('Number of Samples')\n",
    "ax.set_title('Comparison of Non-Absolute Correlations')\n",
    "ax.legend()\n",
    "#plt.savefig(fname='Non-Absolute Corrs SNS', dpi=600)\n",
    "plt.show()\n",
    "\n",
    "plt.plot(reg, label='Regular')\n",
    "plt.plot(rank, label='Rank')\n",
    "plt.plot(shares, label='Shares')\n",
    "plt.plot(both, label='Both')\n",
    "plt.xlabel('Number of Samples')\n",
    "plt.ylabel('Normalized Correlation')\n",
    "plt.title('Comparison of Absolute Correlations')\n",
    "plt.legend()\n",
    "plt.savefig(fname='Absolute Corrs', dpi=600)\n",
    "plt.show()"
   ]
  }
 ],
 "metadata": {
  "kernelspec": {
   "display_name": "Python 3",
   "language": "python",
   "name": "python3"
  },
  "language_info": {
   "codemirror_mode": {
    "name": "ipython",
    "version": 3
   },
   "file_extension": ".py",
   "mimetype": "text/x-python",
   "name": "python",
   "nbconvert_exporter": "python",
   "pygments_lexer": "ipython3",
   "version": "3.7.3"
  }
 },
 "nbformat": 4,
 "nbformat_minor": 2
}
