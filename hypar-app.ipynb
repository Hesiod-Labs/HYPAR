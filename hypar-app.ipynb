{
 "cells": [
  {
   "cell_type": "code",
   "execution_count": 1,
   "metadata": {},
   "outputs": [],
   "source": [
    "import numpy as np\n",
    "import seaborn as sns\n",
    "import matplotlib.pyplot as plt\n",
    "import pandas as pd"
   ]
  },
  {
   "cell_type": "markdown",
   "metadata": {},
   "source": [
    "# The Basics of Using Jupyter"
   ]
  },
  {
   "cell_type": "markdown",
   "metadata": {},
   "source": [
    "Jupyter is an easy way for programmers and data scientists to openly share their backend (code) while also allowing for plain text (like this) to supplement what is written in the code. To use the Jupyter environment, there are a few basic things that one should know about...\n",
    "\n",
    "* Saving and opening a notebook\n",
    "* **import** (and **from**) statements\n",
    "* Cell types (code and markdown)\n",
    "* Cells: editing, adding/removing, running\n",
    "* Kernel: interrupt, restart\n",
    "* help() $\\rightarrow$ SUPER HELPFUL (who would've guessed?)"
   ]
  },
  {
   "cell_type": "markdown",
   "metadata": {},
   "source": [
    "# IEX API"
   ]
  },
  {
   "cell_type": "markdown",
   "metadata": {},
   "source": [
    "To gain access to the API, go to https://www.iexcloud.io to create an account. Then go to https://www.iexcloud.io/console/tokens to find your API token. Unless you want to get real data, it is recommended that you turn on \"Viewing Test Data\" along the left panel. Any API usage while this is on will not count towards your monthly API allowance. Note that your API token changes when this option is active."
   ]
  },
  {
   "cell_type": "markdown",
   "metadata": {},
   "source": [
    "Here is an arrow-digram outlining the Portfolio creation pipeline:\n",
    "\n",
    "\\begin{equation}\n",
    "\\text{User input} \\rightarrow \\text{IEX Cloud API} \\rightarrow \\text{bind data to Stock object} \\rightarrow \\text{Portfolio object containing Stocks (and data)}\n",
    "\\end{equation}"
   ]
  },
  {
   "cell_type": "markdown",
   "metadata": {},
   "source": [
    "# Making a Portfolio"
   ]
  },
  {
   "cell_type": "code",
   "execution_count": 2,
   "metadata": {},
   "outputs": [
    {
     "ename": "NameError",
     "evalue": "name 'data_collection' is not defined",
     "output_type": "error",
     "traceback": [
      "\u001b[1;31m---------------------------------------------------------------------------\u001b[0m",
      "\u001b[1;31mNameError\u001b[0m                                 Traceback (most recent call last)",
      "\u001b[1;32m<ipython-input-2-2ec1b6c72595>\u001b[0m in \u001b[0;36m<module>\u001b[1;34m\u001b[0m\n\u001b[1;32m----> 1\u001b[1;33m \u001b[0mp\u001b[0m \u001b[1;33m=\u001b[0m \u001b[0mdata_collection\u001b[0m\u001b[1;33m.\u001b[0m\u001b[0mgenerate_portfolio\u001b[0m\u001b[1;33m(\u001b[0m\u001b[1;33m)\u001b[0m\u001b[1;33m\u001b[0m\u001b[1;33m\u001b[0m\u001b[0m\n\u001b[0m",
      "\u001b[1;31mNameError\u001b[0m: name 'data_collection' is not defined"
     ]
    }
   ],
   "source": [
    "p = data_collection.generate_portfolio()"
   ]
  },
  {
   "cell_type": "code",
   "execution_count": 11,
   "metadata": {
    "scrolled": true
   },
   "outputs": [
    {
     "data": {
      "text/plain": [
       "OrderedDict([('NVDA', <hypar.stock.Stock at 0x14662cd0>)])"
      ]
     },
     "execution_count": 11,
     "metadata": {},
     "output_type": "execute_result"
    }
   ],
   "source": [
    "# Portfolio is an Ordered Dict with keys being the tickers and the values being the Stock objects.\n",
    "p.stocks"
   ]
  },
  {
   "cell_type": "code",
   "execution_count": 12,
   "metadata": {},
   "outputs": [
    {
     "data": {
      "text/plain": [
       "<hypar.stock.Stock at 0x14662cd0>"
      ]
     },
     "execution_count": 12,
     "metadata": {},
     "output_type": "execute_result"
    }
   ],
   "source": [
    "# Get a Stock's data.\n",
    "p.stocks['NVDA']"
   ]
  },
  {
   "cell_type": "code",
   "execution_count": 13,
   "metadata": {},
   "outputs": [
    {
     "data": {
      "text/plain": [
       "{'date': '2019-03-29',\n",
       " 'uClose': 180.23,\n",
       " 'uOpen': 183.45,\n",
       " 'uHigh': 183.1,\n",
       " 'uLow': 183.82,\n",
       " 'uVolume': 11438817,\n",
       " 'close': 188.5,\n",
       " 'open': 183.08,\n",
       " 'high': 181.37,\n",
       " 'low': 185.6,\n",
       " 'volume': 11666451,\n",
       " 'change': 0,\n",
       " 'changePercent': 0,\n",
       " 'label': 'Mar 29, 19',\n",
       " 'changeOverTime': 0}"
      ]
     },
     "execution_count": 13,
     "metadata": {},
     "output_type": "execute_result"
    }
   ],
   "source": [
    "# Use .<attribute> to get different pieces of data.\n",
    "p.stocks['NVDA'].price_data[0] # The index is just because the dictionary is a list"
   ]
  },
  {
   "cell_type": "code",
   "execution_count": 31,
   "metadata": {},
   "outputs": [
    {
     "data": {
      "text/plain": [
       "[<matplotlib.lines.Line2D at 0x1ae8b70>]"
      ]
     },
     "execution_count": 31,
     "metadata": {},
     "output_type": "execute_result"
    },
    {
     "data": {
      "image/png": "[encoded data removed]",
      "text/plain": [
       "<Figure size 432x288 with 1 Axes>"
      ]
     },
     "metadata": {
      "needs_background": "light"
     },
     "output_type": "display_data"
    }
   ],
   "source": [
    "# Notice the above notation is not very convient, so use the following method to \"slice\" the data.\n",
    "# Data can be returned in different formats, so use help(p.get_data_slice) to learn more about this.\n",
    "d=p.get_data_slice('close', as_dict=True)['NVDA']\n",
    "plt.plot(list(d.keys()),list(d.values()))\n",
    "\n",
    "map(da)"
   ]
  },
  {
   "cell_type": "markdown",
   "metadata": {},
   "source": [
    "# Plotting (all are not working temporarily, sorry)"
   ]
  },
  {
   "cell_type": "markdown",
   "metadata": {},
   "source": [
    "* Time series - not currently working with new implementation (sorry)\n",
    "* CDF - again, not currently working\n",
    "* Spearman rank correlation heatmap"
   ]
  },
  {
   "cell_type": "markdown",
   "metadata": {},
   "source": [
    "# Analysis"
   ]
  },
  {
   "cell_type": "markdown",
   "metadata": {},
   "source": [
    "* Spearman rank coefficients\n",
    "* Statistical moments - not currently working (sorry)"
   ]
  },
  {
   "cell_type": "code",
   "execution_count": 19,
   "metadata": {},
   "outputs": [
    {
     "data": {
      "text/plain": [
       "[['WAL', 'FB', 0.0045588235294117645],\n",
       " ['FB', 'WAL', 0.0045588235294117645],\n",
       " ['AMD', 'FB', 0.07426470588235294],\n",
       " ['FB', 'AMD', 0.07426470588235294],\n",
       " ['NVDA', 'FB', 0.07720588235294118],\n",
       " ['FB', 'NVDA', 0.07720588235294118],\n",
       " ['AMD', 'WAL', 0.08161764705882352],\n",
       " ['WAL', 'AMD', 0.08161764705882352],\n",
       " ['NVDA', 'WAL', 0.10132352941176472],\n",
       " ['WAL', 'NVDA', 0.10132352941176472],\n",
       " ['NVDA', 'AMD', 0.16102941176470587],\n",
       " ['AMD', 'NVDA', 0.16102941176470587]]"
      ]
     },
     "execution_count": 19,
     "metadata": {},
     "output_type": "execute_result"
    }
   ],
   "source": [
    "analysis.correlation(p) # use help() to get an understanding for how you can weight the correlations."
   ]
  },
  {
   "cell_type": "code",
   "execution_count": 2,
   "metadata": {},
   "outputs": [
    {
     "ename": "NameError",
     "evalue": "name 'p' is not defined",
     "output_type": "error",
     "traceback": [
      "\u001b[1;31m---------------------------------------------------------------------------\u001b[0m",
      "\u001b[1;31mNameError\u001b[0m                                 Traceback (most recent call last)",
      "\u001b[1;32m<ipython-input-2-1e38c340e412>\u001b[0m in \u001b[0;36m<module>\u001b[1;34m\u001b[0m\n\u001b[0;32m      2\u001b[0m \u001b[1;33m\u001b[0m\u001b[0m\n\u001b[0;32m      3\u001b[0m \u001b[1;31m# Randomly assign number of stocks owned\u001b[0m\u001b[1;33m\u001b[0m\u001b[1;33m\u001b[0m\u001b[1;33m\u001b[0m\u001b[0m\n\u001b[1;32m----> 4\u001b[1;33m \u001b[1;32mfor\u001b[0m \u001b[0mstock\u001b[0m \u001b[1;32min\u001b[0m \u001b[0mp\u001b[0m\u001b[1;33m.\u001b[0m\u001b[0mstocks\u001b[0m\u001b[1;33m.\u001b[0m\u001b[0mkeys\u001b[0m\u001b[1;33m(\u001b[0m\u001b[1;33m)\u001b[0m\u001b[1;33m:\u001b[0m\u001b[1;33m\u001b[0m\u001b[1;33m\u001b[0m\u001b[0m\n\u001b[0m\u001b[0;32m      5\u001b[0m     \u001b[0mp\u001b[0m\u001b[1;33m.\u001b[0m\u001b[0mstocks\u001b[0m\u001b[1;33m[\u001b[0m\u001b[0mstock\u001b[0m\u001b[1;33m]\u001b[0m\u001b[1;33m.\u001b[0m\u001b[0mnum_shares\u001b[0m\u001b[1;33m[\u001b[0m\u001b[0mp\u001b[0m\u001b[1;33m]\u001b[0m \u001b[1;33m=\u001b[0m \u001b[0mnp\u001b[0m\u001b[1;33m.\u001b[0m\u001b[0mrandom\u001b[0m\u001b[1;33m.\u001b[0m\u001b[0mrandint\u001b[0m\u001b[1;33m(\u001b[0m\u001b[1;36m1\u001b[0m\u001b[1;33m,\u001b[0m\u001b[1;36m15\u001b[0m\u001b[1;33m)\u001b[0m\u001b[1;33m\u001b[0m\u001b[1;33m\u001b[0m\u001b[0m\n\u001b[0;32m      6\u001b[0m \u001b[1;33m\u001b[0m\u001b[0m\n",
      "\u001b[1;31mNameError\u001b[0m: name 'p' is not defined"
     ]
    }
   ],
   "source": [
    "# The following will eventually be added to the plotting module. For now, it must be done manually.\n",
    "\n",
    "# Randomly assign number of stocks owned\n",
    "for stock in p.stocks.keys():\n",
    "    p.stocks[stock].num_shares[p] = np.random.randint(1,15)\n",
    "\n",
    "# Calculate all the weightings of correlation (i.e. regular, rank, shares, both)\n",
    "b='spearman'\n",
    "a=False\n",
    "c=True\n",
    "sh=True\n",
    "r=True\n",
    "\n",
    "reg = analysis.correlation(p, method=b, absolute=a, coeffs_only=c)\n",
    "rank = analysis.correlation(p, method=b, weight_by_rank=r, absolute=a, coeffs_only=c)\n",
    "shares = analysis.correlation(p, method=b, weight_by_shares=sh, absolute=a, coeffs_only=c)\n",
    "both = analysis.correlation(p, method=b, weight_by_rank=r, weight_by_shares=sh, absolute=a, coeffs_only=c)\n",
    "\n",
    "ax = sns.distplot(reg, label='Regular')\n",
    "sns.distplot(rank, label='Rank')\n",
    "sns.distplot(shares, label='Shares')\n",
    "sns.distplot(both, label='Both')\n",
    "ax.set_xlabel('Non-Absolute Correlation')\n",
    "ax.set_ylabel('Number of Samples')\n",
    "ax.set_title('Comparison of Non-Absolute Correlations')\n",
    "ax.legend()\n",
    "#plt.savefig(fname='Non-Absolute Corrs SNS', dpi=600)\n",
    "plt.show()\n",
    "\n",
    "plt.plot(reg, label='Regular')\n",
    "plt.plot(rank, label='Rank')\n",
    "plt.plot(shares, label='Shares')\n",
    "plt.plot(both, label='Both')\n",
    "plt.xlabel('Number of Samples')\n",
    "plt.ylabel('Normalized Correlation')\n",
    "plt.title('Comparison of Absolute Correlations')\n",
    "plt.legend()\n",
    "plt.savefig(fname='Absolute Corrs', dpi=600)\n",
    "plt.show()"
   ]
  },
  {
   "cell_type": "code",
   "execution_count": 75,
   "metadata": {},
   "outputs": [],
   "source": [
    "from dataclasses import dataclass, field\n",
    "import datetime\n",
    "from typing import List, Dict, Any\n",
    "\n",
    "\n",
    "@dataclass\n",
    "class StockParams(object):\n",
    "    \"\"\"Parameters of a StockInstance that identifies it from other\n",
    "    StockInstances.\n",
    "\n",
    "    Includes such properties as the number of shares owned and start and end\n",
    "    dates of when the StockInstance is owned. Distinction of StockParams and\n",
    "    StockData is necessary when dealing with a multi-Portfolio environment in\n",
    "    which the number of shares and dates vary between one or more Portfolios.\n",
    "    In this way, each StockInstance in one or more Portfolio can have a\n",
    "    different number of shares and dates.\n",
    "\n",
    "    Attributes:\n",
    "        num_shares (int): Number of shares owned of a StockInstance.\n",
    "        start_date (datetime): Starting date of the StockInstance.\n",
    "        end_date (datetime): Ending date of the StockInstance.\n",
    "        anonymous (bool): True of the StockInstance is to be referred to by its\n",
    "            pseudonym, and otherwise implies the StockInstance to be referred\n",
    "            to by its ticker symbol.\n",
    "        pseudonym (str): \"S-XXX\" where \"XXX\" is a pseudo-randomly generated\n",
    "            integer between 100 and 999.\n",
    "    \"\"\"\n",
    "    start_date: datetime.datetime = None\n",
    "    end_date: datetime.datetime = None\n",
    "    pseudonym: str = None\n",
    "    num_shares: int = 1\n",
    "    anonymous: bool = False\n",
    "\n",
    "    @property\n",
    "    def __repr__(self):\n",
    "        return f'{self.__class__.__name__}(ticker={self.ticker}, ' \\\n",
    "            f'start={self.start_date:%Y-%m-%d}, end={self.end_date:%Y-%m-%d})'\n",
    "\n",
    "    def sort_by_start(self, stock_params):\n",
    "        return stock_params.start_date\n",
    "\n",
    "    def sort_by_end(self, stock_params):\n",
    "        return stock_params.end_date\n",
    "\n",
    "# TODO(Ryan) Specify type hints in more detail -- refer to PEP 483 and 484:\n",
    "# https://www.python.org/dev/peps/pep-0483/#notational-conventions\n",
    "# https://www.python.org/dev/peps/pep-0484/\n",
    "@dataclass\n",
    "class StockData(object):\n",
    "    \"\"\"Data about a Stock that is shared among all StockInstances of a Stock.\n",
    "\n",
    "    Collection of data that is parsed among all StockInstances that, together,\n",
    "    signifies the Stock activity during the date ranges in which it is owned.\n",
    "    There may be regions of data that are not accessed if no StockInstance\n",
    "    exists within that region of time.\n",
    "\n",
    "    Attributes:\n",
    "        ticker (str): Ticker symbol of the Stock.\n",
    "        interday_pricing (List[Dict[str, Any]]): Daily adjusted and\n",
    "        unadjusted price and volume information.\n",
    "        balance_sheet (Dict[str, Any]): Balance sheet information of the most\n",
    "            recent available quarter.\n",
    "        book (Dict[str, Any]): Book data.\n",
    "        cash_flow (Dict[str, Any]): Cash flow information of the most recent\n",
    "            available quarter.\n",
    "        company (Dict[str, Any]): Company information, such as the website,\n",
    "            description, tags, and CEO.\n",
    "        earnings (Dict[str, Any]): Earnings data for a given company,\n",
    "            including the actual EPS, consensus, and fiscal period. Earnings are\n",
    "            available for the most recent four quarters.\n",
    "        estimate (Dict[str, Any]): Latest consensus estimate for the next\n",
    "            fiscal period.\n",
    "        income_statement (Dict[str, Any]): Income statement information from\n",
    "            the most recent available quarter.\n",
    "        intraday_pricing (Dict[str, Any]): Intraday trading information in\n",
    "            one-minute intervals.\n",
    "        ipo_today (Dict[str, List]): IPOs occuring today.\n",
    "        ipo_upcoming (Dict[str, List]): IPOs in the near future.\n",
    "        key_stats (Dict[str, Any]): Various summary data.\n",
    "        price_target (Dict[str, Any]): Latest average, high, and low analyst\n",
    "            price target.\n",
    "    \"\"\"\n",
    "    ticker: str = ''\n",
    "    interday_pricing: List[Dict[str, Any]] = field(default_factory=list)\n",
    "    balance_sheet: Dict[str, Any] = field(default_factory=dict)\n",
    "    book: Dict[str, float] = field(default_factory=dict)\n",
    "    cash_flow: Dict[str, Any] = field(default_factory=dict)\n",
    "    company: Dict[str, Any] = field(default_factory=dict)\n",
    "    earnings: Dict[str, Any] = field(default_factory=dict)\n",
    "    estimate: Dict[str, Any] = field(default_factory=dict)  # NEW (7/5/19)\n",
    "    income_statement: Dict[str, Any] = field(default_factory=dict)\n",
    "    intraday_pricing: List[Dict[str, Any]] = field(default_factory=list)\n",
    "    ipo_today: Dict[str, List] = field(default_factory=dict)  # NEW (7/5/19)\n",
    "    ipo_upcoming: Dict[str, List] = field(default_factory=dict)  # NEW (7/5/19)\n",
    "    key_stats: Dict[str, Any] = field(default_factory=dict)\n",
    "    price_target: Dict[str, Any] = field(default_factory=dict)\n",
    "\n",
    "    def __post_init__(self):\n",
    "        self.ticker = self.ticker.upper()\n",
    "\n",
    "\n",
    "class StockInstance(StockParams, StockData):\n",
    "    \"\"\"Organizes the StockParams and StockData into one object.\n",
    "\n",
    "    A unit member of a Stock. That is, in the simplest case, one StockInstance\n",
    "    is the same as the Stock itself. However, if there are any changes in the\n",
    "    number of shares, or is not held continuously over the Portfolio's entire\n",
    "    time frame, then more than one StockInstance comprises of the Stock.\n",
    "    \"\"\"\n",
    "    params: StockParams = field(default_factory=list)\n",
    "    data: StockData = field(default_factory=list)\n",
    "\n",
    "\n",
    "@dataclass\n",
    "class Stock(StockInstance):\n",
    "    \"\"\"A list of one or more StockInstances that define the Stock.\n",
    "\n",
    "    In the simplest case, a Stock is one StockInstance. But if the Stock is not\n",
    "    held continuously over the duration of the Portfolio's time frame, more than\n",
    "    one StockInstance comprises the Stock.\n",
    "\n",
    "    Attributes:\n",
    "        instances (List[StockInstance]): One or more StockInstances that contain\n",
    "            uniform StockData and variable StockParams that distinguish\n",
    "            potentially non-continuous holdings of a Stock.\n",
    "    \"\"\"\n",
    "    instances: List[StockInstance] = field(init=False)\n"
   ]
  },
  {
   "cell_type": "code",
   "execution_count": 76,
   "metadata": {},
   "outputs": [],
   "source": [
    "t = StockParams(start_date=datetime.datetime(2018,1,1), end_date=datetime.datetime(2018,2,1))"
   ]
  },
  {
   "cell_type": "code",
   "execution_count": 77,
   "metadata": {},
   "outputs": [],
   "source": [
    "d = StockData(interday_pricing=[1,2,3])"
   ]
  },
  {
   "cell_type": "code",
   "execution_count": 78,
   "metadata": {},
   "outputs": [],
   "source": [
    "si = StockInstance(t,d)"
   ]
  },
  {
   "cell_type": "code",
   "execution_count": 79,
   "metadata": {},
   "outputs": [
    {
     "data": {
      "text/plain": [
       "Field(name=None,type=None,default=<dataclasses._MISSING_TYPE object at 0x05EA3910>,default_factory=<class 'list'>,init=True,repr=True,hash=None,compare=True,metadata=mappingproxy({}),_field_type=None)"
      ]
     },
     "execution_count": 79,
     "metadata": {},
     "output_type": "execute_result"
    }
   ],
   "source": [
    "si.data"
   ]
  },
  {
   "cell_type": "code",
   "execution_count": null,
   "metadata": {},
   "outputs": [],
   "source": [
    "pye"
   ]
  }
 ],
 "metadata": {
  "kernelspec": {
   "display_name": "Python 3",
   "language": "python",
   "name": "python3"
  },
  "language_info": {
   "codemirror_mode": {
    "name": "ipython",
    "version": 3
   },
   "file_extension": ".py",
   "mimetype": "text/x-python",
   "name": "python",
   "nbconvert_exporter": "python",
   "pygments_lexer": "ipython3",
   "version": "3.7.3"
  }
 },
 "nbformat": 4,
 "nbformat_minor": 2
}
